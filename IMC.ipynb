{
  "nbformat": 4,
  "nbformat_minor": 0,
  "metadata": {
    "colab": {
      "name": "IMC.ipynb",
      "provenance": [],
      "authorship_tag": "ABX9TyP5oQZltL6M+mOKuO/S6lmG",
      "include_colab_link": true
    },
    "kernelspec": {
      "name": "python3",
      "display_name": "Python 3"
    },
    "language_info": {
      "name": "python"
    }
  },
  "cells": [
    {
      "cell_type": "markdown",
      "metadata": {
        "id": "view-in-github",
        "colab_type": "text"
      },
      "source": [
        "<a href=\"https://colab.research.google.com/github/Anna-bel25/POE-5-1/blob/main/IMC.ipynb\" target=\"_parent\"><img src=\"https://colab.research.google.com/assets/colab-badge.svg\" alt=\"Open In Colab\"/></a>"
      ]
    },
    {
      "cell_type": "code",
      "execution_count": 1,
      "metadata": {
        "colab": {
          "base_uri": "https://localhost:8080/"
        },
        "cellView": "form",
        "id": "Tdt6OtmP3smC",
        "outputId": "28ab75bc-2cf0-4447-de0f-059724b120c7"
      },
      "outputs": [
        {
          "output_type": "stream",
          "name": "stdout",
          "text": [
            "24.221453287197235\n"
          ]
        }
      ],
      "source": [
        "#@title Calculo del indice de Masa Corporal { run: \"auto\", vertical-output: true }\n",
        "Estatura = 1.70#@param {type: \"number\"}\n",
        "Peso = 70#@param {type: \"number\"}\n",
        "print((Peso)/(Estatura*Estatura))"
      ]
    }
  ]
}